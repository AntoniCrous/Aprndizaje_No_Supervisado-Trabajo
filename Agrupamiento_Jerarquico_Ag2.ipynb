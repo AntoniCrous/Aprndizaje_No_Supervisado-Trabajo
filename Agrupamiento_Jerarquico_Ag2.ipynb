{
  "nbformat": 4,
  "nbformat_minor": 0,
  "metadata": {
    "colab": {
      "name": "Agrupamiento_Jerarquico_Ag2.ipynb",
      "version": "0.3.2",
      "provenance": [],
      "private_outputs": true,
      "include_colab_link": true
    },
    "kernelspec": {
      "name": "python3",
      "display_name": "Python 3"
    }
  },
  "cells": [
    {
      "cell_type": "markdown",
      "metadata": {
        "id": "view-in-github",
        "colab_type": "text"
      },
      "source": [
        "<a href=\"https://colab.research.google.com/github/AntoniCrous/Aprndizaje_No_Supervisado-Trabajo/blob/master/Agrupamiento_Jerarquico_Ag2.ipynb\" target=\"_parent\"><img src=\"https://colab.research.google.com/assets/colab-badge.svg\" alt=\"Open In Colab\"/></a>"
      ]
    },
    {
      "metadata": {
        "id": "6jcYawJB9SR0",
        "colab_type": "text"
      },
      "cell_type": "markdown",
      "source": [
        "# Agrupamiento Jerarquico: Aglomerativo\n",
        "\n",
        "Este algoritmo se basa en ir uniendo conjuntos hasta un que haya un numero determinado de clústers o hasta conseguir clusters con una disimilitud maxima. <br>\n",
        "Se unen en funcion de la similitud que es un concepto de distancia con ciertas condiciones y caracteristicas. Se unen los clusteres con menor disimilitud interclúster."
      ]
    },
    {
      "metadata": {
        "id": "jB7xt6oE-dX1",
        "colab_type": "code",
        "colab": {}
      },
      "cell_type": "code",
      "source": [
        "#Cargamos las librerias necessarias\n",
        "import numpy as np\n",
        "import pandas as pd\n",
        "import itertools as it\n",
        "import matplotlib.pyplot as plt"
      ],
      "execution_count": 0,
      "outputs": []
    },
    {
      "metadata": {
        "id": "5_PFz7tACL8-",
        "colab_type": "text"
      },
      "cell_type": "markdown",
      "source": [
        "##Dataset 1 Conocido"
      ]
    },
    {
      "metadata": {
        "id": "AgygDnB6_oVm",
        "colab_type": "code",
        "colab": {}
      },
      "cell_type": "code",
      "source": [
        "#Cargamos y Mostramos el dataset 1\n",
        "data_file_url = 'https://raw.githubusercontent.com/jhernandezgonzalez/unsupervisedlearning/master/datasets/sinteticos/dataset_cuatro_diferente_medida.csv'\n",
        "D1 = np.array(pd.read_csv(data_file_url,header=0))\n",
        "D1 = D1[ np.random.choice(np.arange(D1.shape[0]), D1.shape[0], replace=False) ,:]\n",
        "D1x = D1[:,0:2]\n",
        "D1y = D1[:,2]\n",
        "print('El dataset 1 el qual conocemos las classes tiene',D1y.size,'instancias.')\n",
        "\n",
        "fig, ax = plt.subplots(figsize=(10,5))\n",
        "ax.scatter(D1x[:,0],D1x[:,1], c=D1y)"
      ],
      "execution_count": 0,
      "outputs": []
    },
    {
      "metadata": {
        "id": "dB9m0m4AB8hI",
        "colab_type": "text"
      },
      "cell_type": "markdown",
      "source": [
        "#### Conocido\n",
        "Como conocemos el numero de classes assignamos nClústers = 4"
      ]
    },
    {
      "metadata": {
        "id": "DbcFgUpaQ_p1",
        "colab_type": "code",
        "colab": {}
      },
      "cell_type": "code",
      "source": [
        "from scipy.cluster.hierarchy import linkage, fcluster, cut_tree\n",
        "\n",
        "modelo = linkage(D1x, 'single')   # disimilitud mínima\n",
        "\n",
        "plt.scatter(D1x[:,0], D1x[:,1], c=cut_tree(modelo, n_clusters=4).flatten())\n",
        "plt.show()"
      ],
      "execution_count": 0,
      "outputs": []
    },
    {
      "metadata": {
        "id": "l0v_5ZoCSAZ6",
        "colab_type": "code",
        "colab": {}
      },
      "cell_type": "code",
      "source": [
        "from scipy.cluster.hierarchy import linkage, fcluster, cut_tree\n",
        "\n",
        "modelo = linkage(D1x, 'complete') # disimilitud máxima\n",
        "\n",
        "plt.scatter(D1x[:,0], D1x[:,1], c=cut_tree(modelo, n_clusters=4).flatten())\n",
        "plt.show()"
      ],
      "execution_count": 0,
      "outputs": []
    },
    {
      "metadata": {
        "id": "v_97Lty3UM8p",
        "colab_type": "code",
        "colab": {}
      },
      "cell_type": "code",
      "source": [
        "from scipy.cluster.hierarchy import linkage, fcluster, cut_tree\n",
        "\n",
        "modelo = linkage(D1x, 'average')  # disimilitud media\n",
        "\n",
        "plt.scatter(D1x[:,0], D1x[:,1], c=cut_tree(modelo, n_clusters=4).flatten())\n",
        "plt.show()"
      ],
      "execution_count": 0,
      "outputs": []
    },
    {
      "metadata": {
        "id": "5pn_ByKXF3HZ",
        "colab_type": "text"
      },
      "cell_type": "markdown",
      "source": [
        "## Conclusiones\n",
        "Vemos que el comportamiento del agrupamiento aglomerativo se adapta bien al dataset utilizando la disimilitud media. En comparación las otras parece que los resultados no son los esperados."
      ]
    },
    {
      "metadata": {
        "id": "KPHorQAqCgjn",
        "colab_type": "text"
      },
      "cell_type": "markdown",
      "source": [
        "##Dataset 2  No Conocido"
      ]
    },
    {
      "metadata": {
        "id": "lcmQqW1dCj6B",
        "colab_type": "code",
        "colab": {}
      },
      "cell_type": "code",
      "source": [
        "#Cargamos y Mostramos el dataset 2\n",
        "data_file_url = 'https://raw.githubusercontent.com/jhernandezgonzalez/unsupervisedlearning/master/datasets/sinteticos/dataset_inseparable.csv'\n",
        "D2 = np.array(pd.read_csv(data_file_url,header=0))\n",
        "D2 = D2[ np.random.choice(np.arange(D2.shape[0]), D2.shape[0], replace=False) ,:]\n",
        "D2x = D2[:,0:2]\n",
        "D2y = D2[:,2]\n",
        "print('El dataset 2 el qual conocemos las classes tiene',D2y.size,'instancias.')\n",
        "\n",
        "fig, ax = plt.subplots(figsize=(10,5))\n",
        "ax.scatter(D2x[:,0],D2x[:,1], c=D2y)"
      ],
      "execution_count": 0,
      "outputs": []
    },
    {
      "metadata": {
        "id": "3NFamd8VCybC",
        "colab_type": "text"
      },
      "cell_type": "markdown",
      "source": [
        "#### Dataset No Conocido\n",
        "Como no conocemos el numero de clusters debemos usar metricas para encontrar el numero del numero de clústers que maximize la dispersión iterclúster y minimize la dispersión intraclúster. <br>"
      ]
    },
    {
      "metadata": {
        "id": "DtdczcrAWEPF",
        "colab_type": "code",
        "colab": {}
      },
      "cell_type": "code",
      "source": [
        "from sklearn.metrics import silhouette_score,calinski_harabaz_score\n",
        "\n",
        "def medida_R_cuadrado(X, Xyp, cXs):\n",
        "    cXglob = np.mean(X,axis=0) \n",
        "    labels = np.sort(np.unique(Xyp))\n",
        "    sumTotal = np.sum(np.sum(X-cXglob,1)**2) \n",
        "    interior = np.sum([ np.sum(np.sum(X[Xyp==labels[k],:]-cXs[labels[k],:],1)**2) for k in np.arange(labels.size)])\n",
        "    \n",
        "    return (sumTotal-interior)/sumTotal\n",
        "\n",
        "rsilueta = np.zeros(13)\n",
        "calinski = np.zeros(13)\n",
        "modelo = linkage(D2x, 'average')  # disimilitud media\n",
        "for k in np.arange(2,15):\n",
        "  \n",
        "    D2yp_sk = cut_tree(modelo, n_clusters=k).flatten()\n",
        "    rsilueta[k-2] = silhouette_score(D2x, D2yp_sk)\n",
        "    calinski[k-2] = calinski_harabaz_score(D2x, D2yp_sk)\n",
        "    \n",
        "fig, ax = plt.subplots(1,2, figsize=(15,5))\n",
        "ax[0].plot( np.arange(2,15),rsilueta, linestyle='-', marker='o')\n",
        "ax[0].set_xlabel(\"Número de clústeres\")\n",
        "ax[0].set_ylabel(\"Medida de ancho de silueta\")\n",
        "\n",
        "ax[1].plot( np.arange(2,15),calinski, linestyle='-', marker='o')\n",
        "ax[1].set_xlabel(\"Número de clústeres\")\n",
        "ax[1].set_ylabel(\"Medida de Calinski_harabaz\")"
      ],
      "execution_count": 0,
      "outputs": []
    },
    {
      "metadata": {
        "id": "3ZISXpkZ_k8V",
        "colab_type": "code",
        "colab": {}
      },
      "cell_type": "code",
      "source": [
        "#Creamos el Modelo Aglomerativo\n",
        "modelo = linkage(D2x, 'average')  # disimilitud media\n",
        "\n",
        "plt.scatter(D2x[:,0], D2x[:,1], c=cut_tree(modelo, n_clusters=5).flatten())\n",
        "plt.show()"
      ],
      "execution_count": 0,
      "outputs": []
    },
    {
      "metadata": {
        "id": "6bJeMb6RGas2",
        "colab_type": "text"
      },
      "cell_type": "markdown",
      "source": [
        "## Conclusiones\n",
        "Puesto que no conocemos el dataset no podemos decir que es el agrupamiento correcto sin embargo parece un comportamiento bastante adequado ya que separa las aglomeraciones mas densas."
      ]
    }
  ]
}