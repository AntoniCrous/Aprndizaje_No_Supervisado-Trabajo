{
  "nbformat": 4,
  "nbformat_minor": 0,
  "metadata": {
    "colab": {
      "name": "VC10_2_apriori.ipynb",
      "version": "0.3.2",
      "provenance": []
    },
    "kernelspec": {
      "display_name": "Python 3",
      "language": "python",
      "name": "python3"
    }
  },
  "cells": [
    {
      "metadata": {
        "id": "VERfI2mvHiX9",
        "colab_type": "text"
      },
      "cell_type": "markdown",
      "source": [
        "<center><h1>VC10: Algoritmo APRIORI</h1></center>\n",
        "\n",
        "El algoritmo Apriori es un procedimiento para encontrar subsets frecuentes de ítems. En el caso de la cesta de la compra serían conjuntos de productos que suelen comprarse simultáneamente. \n",
        "\n",
        "\n",
        "Se podría decir que el algoritmo Apriori es una búsqueda en anchura donde, en primer lugar, se buscan todos los subconjuntos $X$ de tamaño 1 que tienen un mínimo soporte sobre el conjunto de transacciones $S$, $soporte(X;S)\\geq minS$, donde el soporte es una métrica que se define como:\n",
        "$$soporte(X;S)=\\frac{|\\{T\\in S:X\\subseteq T\\}}{|S|}$$\n",
        "\n",
        "Así, la primera tarea consiste en detectar todos los subconjuntos de tamaño $1$:"
      ]
    },
    {
      "metadata": {
        "id": "X5ilA1g0HiX_",
        "colab_type": "code",
        "colab": {}
      },
      "cell_type": "code",
      "source": [
        "import numpy as np\n",
        "\n",
        "def generarC1(S):\n",
        "    C1 = []\n",
        "    for transaccion in S:\n",
        "        for item in transaccion:\n",
        "            if [item] not in C1:\n",
        "                C1.append([item])\n",
        "                \n",
        "    C1.sort()\n",
        "    return list(map(frozenset, C1)) # usando un `frozenset´ podemos usarlo como una `key´ de un diccionario"
      ],
      "execution_count": 0,
      "outputs": []
    },
    {
      "metadata": {
        "id": "TKZRIepEHiYC",
        "colab_type": "text"
      },
      "cell_type": "markdown",
      "source": [
        "\n",
        "Hagamos una prueba con este pequeño conjunto de transacciones:\n"
      ]
    },
    {
      "metadata": {
        "id": "Z6urGoXhHiYD",
        "colab_type": "code",
        "colab": {
          "base_uri": "https://localhost:8080/",
          "height": 35
        },
        "outputId": "567ce8df-7ce4-4655-9f2a-ad7e74c607ef"
      },
      "cell_type": "code",
      "source": [
        "transacciones = np.array([[2, 3, 4], \n",
        "                          [1, 2, 5], \n",
        "                          [1, 2, 3, 5], \n",
        "                          [1, 5]])\n",
        "\n",
        "print(generarC1(transacciones))"
      ],
      "execution_count": 2,
      "outputs": [
        {
          "output_type": "stream",
          "text": [
            "[frozenset({1}), frozenset({2}), frozenset({3}), frozenset({4}), frozenset({5})]\n"
          ],
          "name": "stdout"
        }
      ]
    },
    {
      "metadata": {
        "id": "lgc4SWCVHiYG",
        "colab_type": "text"
      },
      "cell_type": "markdown",
      "source": [
        "Todos los conjuntos de tamaño 1 que superan el umbral $minS$ se combinan para crear conjuntos de tamaño $2$, los cuales también son testeados en busca de aquellos que superan también este umbral, $minS$.\n",
        "\n",
        "En general, todos aquellos conjuntos de la $i$-ésima iteración que superan el umbral de soporte $minS$ (conjuntos de tamaño $|X|=i$), en la siguiente iteración ($i+1$) del algoritmo, se combinan entre ellos para generar nuevos conjuntos de tamaño $i+1$. \n",
        "\n",
        "La siguiente función se usa para identificar los conjuntos que superan el umbral de soporte:"
      ]
    },
    {
      "metadata": {
        "id": "ACIj3qIcHiYG",
        "colab_type": "code",
        "colab": {}
      },
      "cell_type": "code",
      "source": [
        "def filtraPorSoporte(S, Ck, minS):\n",
        "    conteo = {}\n",
        "    for tr in S:\n",
        "        for itemset in Ck:\n",
        "            if itemset.issubset(tr):\n",
        "                if itemset not in conteo: \n",
        "                    conteo[itemset] = 1\n",
        "                else: \n",
        "                    conteo[itemset] += 1\n",
        "    numItems = float(len(S))\n",
        "    Ck_minS = []\n",
        "    soporteCk = {}\n",
        "    for itemset in conteo:\n",
        "        soporte = conteo[itemset]/numItems\n",
        "        if soporte >= minS:\n",
        "            Ck_minS.insert(0, itemset)\n",
        "        soporteCk[itemset] = soporte\n",
        "    return Ck_minS, soporteCk"
      ],
      "execution_count": 0,
      "outputs": []
    },
    {
      "metadata": {
        "id": "_hJM9bnCHiYJ",
        "colab_type": "text"
      },
      "cell_type": "markdown",
      "source": [
        "\n",
        "Podemos hacer el cálculo para obtener los conjuntos de tamaño 1 que ocurren en al menos el $50\\%$ de las transacciones del conjunto de entrenamiento:\n"
      ]
    },
    {
      "metadata": {
        "id": "LJIZyz4OHiYJ",
        "colab_type": "code",
        "colab": {
          "base_uri": "https://localhost:8080/",
          "height": 54
        },
        "outputId": "4b53dcf9-167d-449b-c32c-b797b1d98275"
      },
      "cell_type": "code",
      "source": [
        "S = list(map(set,transacciones))\n",
        "C1 = generarC1(transacciones)\n",
        "print(S)\n",
        "\n",
        "L1, soporteC1 = filtraPorSoporte(S,C1,0.5)\n",
        "print(L1)"
      ],
      "execution_count": 5,
      "outputs": [
        {
          "output_type": "stream",
          "text": [
            "[{2, 3, 4}, {1, 2, 5}, {1, 2, 3, 5}, {1, 5}]\n",
            "[frozenset({5}), frozenset({1}), frozenset({3}), frozenset({2})]\n"
          ],
          "name": "stdout"
        }
      ]
    },
    {
      "metadata": {
        "id": "y0hof0e0HiYL",
        "colab_type": "text"
      },
      "cell_type": "markdown",
      "source": [
        "\n",
        "Se puede ver que el ítem 4 sólo aparece en la primera transacción, por lo que no superó el umbral de soporte fijado.\n",
        "\n",
        "Probablemente la parte más sensible de este algoritmo consiste en generar los candidados (conjuntos de ítems) de una nueva iteración ($C_k$) dados los conjuntos frecuentes de la previa ($L_{k-1}$). \n",
        "\n",
        "Por ejemplo, dados los conjuntos frecuentes de la primera etapa $\\{1\\}$, $\\{2\\}$, $\\{3\\}$ y $\\{5\\}$, los candidados de tamaño 2 ($C_2$) serán:\n",
        "$\\{1,2\\}$, $\\{1,3\\}$, $\\{1,5\\}$, $\\{2,3\\}$, $\\{2,5\\}$ y $\\{3,5\\}$.\n",
        "\n",
        "En concreto, se podría hacer de la siguiente manera:\n"
      ]
    },
    {
      "metadata": {
        "id": "j1JT8qTwHiYM",
        "colab_type": "code",
        "colab": {}
      },
      "cell_type": "code",
      "source": [
        "def generarCk(Lk1, k):\n",
        "    Ck = []\n",
        "    lenLk1 = len(Lk1)\n",
        "    for i in range(lenLk1):\n",
        "        for j in range(i+1, lenLk1): \n",
        "            L1 = list(Lk1[i])[:k-2]\n",
        "            L1.sort()\n",
        "            L2 = list(Lk1[j])[:k-2]\n",
        "            L2.sort()\n",
        "            if L1 == L2: # Si los primeros k-2 elementos son los mismos\n",
        "                Ck.append(Lk1[i] | Lk1[j]) # hacemos la union de ambos conjuntos\n",
        "    return Ck"
      ],
      "execution_count": 0,
      "outputs": []
    },
    {
      "metadata": {
        "id": "4fZD1ZG2HiYO",
        "colab_type": "text"
      },
      "cell_type": "markdown",
      "source": [
        "\n",
        "Se puede comprobar que el resultado cuadra con lo esperado:\n"
      ]
    },
    {
      "metadata": {
        "id": "yqcio5eQHiYP",
        "colab_type": "code",
        "colab": {
          "base_uri": "https://localhost:8080/",
          "height": 54
        },
        "outputId": "780a5480-135c-4826-859f-2f955b103d23"
      },
      "cell_type": "code",
      "source": [
        "print('Conjuntos candidatos de tamaño 2,\\nC2 =', generarCk(L1,2))"
      ],
      "execution_count": 7,
      "outputs": [
        {
          "output_type": "stream",
          "text": [
            "Conjuntos candidatos de tamaño 2,\n",
            "C2 = [frozenset({1, 5}), frozenset({3, 5}), frozenset({2, 5}), frozenset({1, 3}), frozenset({1, 2}), frozenset({2, 3})]\n"
          ],
          "name": "stdout"
        }
      ]
    },
    {
      "metadata": {
        "id": "jm3bScfgHiYS",
        "colab_type": "text"
      },
      "cell_type": "markdown",
      "source": [
        "\n",
        "Por último, sólo faltaría definir la función principal del algoritmo que itera entre la formación de conjuntos candidatos y el filtrado de aquellos que cumplen los requisitos de soporte mínimo:\n"
      ]
    },
    {
      "metadata": {
        "id": "bL_18YmpHiYT",
        "colab_type": "code",
        "colab": {}
      },
      "cell_type": "code",
      "source": [
        "def apriori(transacciones, minS = 0.5):\n",
        "    S = list(map(set, transacciones))\n",
        "    C1 = generarC1(transacciones)\n",
        "    L1, soporteItemSets = filtraPorSoporte(S, C1, minS)\n",
        "    L = [L1]\n",
        "    k = 2\n",
        "    while (len(L[k-2]) > 0):\n",
        "        Ck = generarCk(L[k-2], k)\n",
        "        Lk, soporteCk = filtraPorSoporte(S, Ck, minS)\n",
        "        soporteItemSets.update(soporteCk)\n",
        "        L.append(Lk)\n",
        "        k += 1\n",
        "    return L, soporteItemSets"
      ],
      "execution_count": 0,
      "outputs": []
    },
    {
      "metadata": {
        "id": "eOEfa-d1HiYV",
        "colab_type": "text"
      },
      "cell_type": "markdown",
      "source": [
        "\n",
        "Podemos finalmente buscar todos los conjuntos frecuentes (en este caso, soporte mínimo de $50\\%$) de $S$ haciendo la siguiente llamada;"
      ]
    },
    {
      "metadata": {
        "id": "UCMMKcqzHiYW",
        "colab_type": "code",
        "colab": {
          "base_uri": "https://localhost:8080/",
          "height": 90
        },
        "outputId": "ad39d86d-75e5-4060-85c0-5d1eb6362979"
      },
      "cell_type": "code",
      "source": [
        "L, soporteCk = apriori(transacciones)\n",
        "\n",
        "print('Conjuntos frecuentes de tamaño 1:',L[0])\n",
        "print('Conjuntos frecuentes de tamaño 2:',L[1])\n",
        "print('Conjuntos frecuentes de tamaño 3:',L[2])\n",
        "print('Conjuntos frecuentes de tamaño 4:',L[3])"
      ],
      "execution_count": 9,
      "outputs": [
        {
          "output_type": "stream",
          "text": [
            "Conjuntos frecuentes de tamaño 1: [frozenset({5}), frozenset({1}), frozenset({3}), frozenset({2})]\n",
            "Conjuntos frecuentes de tamaño 2: [frozenset({1, 2}), frozenset({2, 5}), frozenset({1, 5}), frozenset({2, 3})]\n",
            "Conjuntos frecuentes de tamaño 3: [frozenset({1, 2, 5})]\n",
            "Conjuntos frecuentes de tamaño 4: []\n"
          ],
          "name": "stdout"
        }
      ]
    },
    {
      "metadata": {
        "id": "cca00vtJHiYZ",
        "colab_type": "text"
      },
      "cell_type": "markdown",
      "source": [
        "\n",
        "<hr /> \n",
        "\n",
        "<center><h1>Obtener reglas de asociación a partir de conjuntos frecuentes</h1></center>\n",
        "\n",
        "En teoría hemos visto cómo encontrar una serie de conjuntos frecuentes de ítems. Dado un conjunto frecuente, se puede generar una regla de asociación de la siguiente manera.\n",
        "\n",
        "Se trata de recorrer todo el listado de conjuntos frecuentes y estudiar la conveniencia de nuevas reglas dado un valor mínimo de confianza:\n"
      ]
    },
    {
      "metadata": {
        "id": "6ayhsDDYHiYb",
        "colab_type": "code",
        "colab": {}
      },
      "cell_type": "code",
      "source": [
        "def generarReglas(L, soporteItemSets, minC=0.7):\n",
        "    lReglas = []\n",
        "    # para crear reglas, sólo podemos considerar conjuntos de tamaño 2 o mayor\n",
        "    if (len(L) == 1):\n",
        "        return lReglas\n",
        "    for i in range(1, len(L)): \n",
        "        for itemset in L[i]:\n",
        "            H1 = [frozenset([item]) for item in itemset]\n",
        "            nuevasReglas = reglasConfianzaMinima(itemset, H1, soporteItemSets, minC)\n",
        "            if (len(nuevasReglas) > 0):\n",
        "                lReglas = lReglas+nuevasReglas\n",
        "    return lReglas"
      ],
      "execution_count": 0,
      "outputs": []
    },
    {
      "metadata": {
        "id": "ixjG4OyMHiYd",
        "colab_type": "text"
      },
      "cell_type": "markdown",
      "source": [
        "\n",
        "Dado un conjunto frecuente $A$ de ítems específico (de tamaño $>2$), recorreremos todos los elementos $e\\in A$ y consideraremos la conveniencia de cada regla $A\\backslash e \\to e$, para lo que calcularemos el valor de confianza de la siguiente manera:\n",
        "\n",
        "$$confianza(A\\backslash e \\to e;S)=\\frac{soporte(A;S)}{soporte(A\\backslash e;S)}$$\n",
        "\n",
        "Así, la función puede definirse como:\n"
      ]
    },
    {
      "metadata": {
        "id": "b68Pz6G5HiYd",
        "colab_type": "code",
        "colab": {}
      },
      "cell_type": "code",
      "source": [
        "def reglasConfianzaMinima(itemset, H, soporteItemSets, minC=0.7):\n",
        "    lReglas = []\n",
        "    for consecuente in H:\n",
        "        # Calcular confianza\n",
        "        itemsetSINcons = itemset-consecuente\n",
        "        print(consecuente)\n",
        "        conf = soporteItemSets[itemset]/soporteItemSets[itemsetSINcons]\n",
        "        if conf >= minC: \n",
        "            print(itemset-consecuente,'-->',consecuente,'con confianza:',conf)\n",
        "            lReglas.append((itemset-consecuente, consecuente, conf))\n",
        "    return lReglas"
      ],
      "execution_count": 0,
      "outputs": []
    },
    {
      "metadata": {
        "id": "em2wiv0ZHiYf",
        "colab_type": "text"
      },
      "cell_type": "markdown",
      "source": [
        "\n",
        "Finalmente, podemos buscar las reglas que tengan un mínimo de confianza del $60\\%$:\n"
      ]
    },
    {
      "metadata": {
        "id": "YJWllPR2HiYg",
        "colab_type": "code",
        "colab": {
          "base_uri": "https://localhost:8080/",
          "height": 345
        },
        "outputId": "75e189c8-c65e-4282-be06-2acfc5556b8a"
      },
      "cell_type": "code",
      "source": [
        "reglas = generarReglas(L, soporteCk, minC=0.7)\n",
        "\n",
        "print('\\nLa confianza de la primera regla es:',reglas[0][2],\n",
        "      ' (** ESTE ES EL RESULTADO A INCLUIR EN EL CAMPUS**)')"
      ],
      "execution_count": 22,
      "outputs": [
        {
          "output_type": "stream",
          "text": [
            "frozenset({1})\n",
            "frozenset({2})\n",
            "frozenset({2})\n",
            "frozenset({5})\n",
            "frozenset({1})\n",
            "frozenset({5}) --> frozenset({1}) con confianza: 1.0\n",
            "frozenset({5})\n",
            "frozenset({1}) --> frozenset({5}) con confianza: 1.0\n",
            "frozenset({2})\n",
            "frozenset({3}) --> frozenset({2}) con confianza: 1.0\n",
            "frozenset({3})\n",
            "frozenset({1})\n",
            "frozenset({2, 5}) --> frozenset({1}) con confianza: 1.0\n",
            "frozenset({2})\n",
            "frozenset({5})\n",
            "frozenset({1, 2}) --> frozenset({5}) con confianza: 1.0\n",
            "\n",
            "La confianza de la primera regla es: 1.0  (** ESTE ES EL RESULTADO A INCLUIR EN EL CAMPUS**)\n"
          ],
          "name": "stdout"
        }
      ]
    },
    {
      "metadata": {
        "id": "34t3TK_MHiYi",
        "colab_type": "text"
      },
      "cell_type": "markdown",
      "source": [
        "\n",
        "Es curioso el hecho de que girando la regla $5 \\to 1$ obtenemos otra regla con la confianza requerida y, sin embargo, al hacer lo mismo con la regla $3\\to 2$, la regla resultante no supera el umbral marcado.\n"
      ]
    },
    {
      "metadata": {
        "id": "hS5jyAjyI2hL",
        "colab_type": "text"
      },
      "cell_type": "markdown",
      "source": [
        ""
      ]
    },
    {
      "metadata": {
        "id": "uCRe5brfI1uL",
        "colab_type": "code",
        "colab": {}
      },
      "cell_type": "code",
      "source": [
        ""
      ],
      "execution_count": 0,
      "outputs": []
    },
    {
      "metadata": {
        "id": "bBwpkO3zHiYj",
        "colab_type": "text"
      },
      "cell_type": "markdown",
      "source": [
        "<hr />\n",
        "\n",
        "<center><h1>Librerias de Python</h1></center>\n",
        "\n",
        "Una librería interesante que incluye el algoritmo Apriori es <b>apyori</b> (el código fuente está adjunto a este notebook). Veamos como funciona.\n",
        "\n",
        "Para empezar, cargamos las librerías necesarias y el conjunto de transacciones que usaremos:\n"
      ]
    },
    {
      "metadata": {
        "id": "fdEja9X8HiYj",
        "colab_type": "code",
        "colab": {}
      },
      "cell_type": "code",
      "source": [
        "import pandas as pd  \n",
        "from apyori import apriori  \n",
        "\n",
        "matriz_datos = pd.read_csv('data/store_data.csv', header=None)"
      ],
      "execution_count": 0,
      "outputs": []
    },
    {
      "metadata": {
        "id": "xjMa51y1HiYl",
        "colab_type": "text"
      },
      "cell_type": "markdown",
      "source": [
        "\n",
        "El algoritmo necesita que las transacciones se le pasen como una lista de listas, por lo que el primer paso es transformar la matriz de datos anterior en una lista de ese estilo:\n"
      ]
    },
    {
      "metadata": {
        "id": "RAviHJ7PHiYn",
        "colab_type": "code",
        "colab": {}
      },
      "cell_type": "code",
      "source": [
        "transacciones = []  \n",
        "for i in np.arange(matriz_datos.shape[0]):  \n",
        "    transacciones.append([str(matriz_datos.values[i,j]) \n",
        "                          for j in np.arange(matriz_datos.shape[1])\n",
        "                          if str(matriz_datos.values[i,j]) != 'nan'])"
      ],
      "execution_count": 0,
      "outputs": []
    },
    {
      "metadata": {
        "id": "cfasVqsvHiYp",
        "colab_type": "text"
      },
      "cell_type": "markdown",
      "source": [
        "\n",
        "Podemos inspeccionar unas pocas transacciones para ver cómo lucen:\n"
      ]
    },
    {
      "metadata": {
        "id": "ySLYVC0nHiYq",
        "colab_type": "code",
        "colab": {}
      },
      "cell_type": "code",
      "source": [
        "for i in np.arange(8):\n",
        "    print(' + Transacción',i+1,':',', '.join(transacciones[i]))"
      ],
      "execution_count": 0,
      "outputs": []
    },
    {
      "metadata": {
        "id": "b7LwwL4THiYv",
        "colab_type": "text"
      },
      "cell_type": "markdown",
      "source": [
        "\n",
        "Con estas transacciones, ya podemos aplicar el algoritmo Apriori dados unos requisitos de soporte y confianza mínimas:\n"
      ]
    },
    {
      "metadata": {
        "id": "AgDILi_OHiYw",
        "colab_type": "code",
        "colab": {}
      },
      "cell_type": "code",
      "source": [
        "lReglas = apriori(transacciones, min_support=0.005, min_confidence=0.5)"
      ],
      "execution_count": 0,
      "outputs": []
    },
    {
      "metadata": {
        "id": "IHpisq4kHiY0",
        "colab_type": "text"
      },
      "cell_type": "markdown",
      "source": [
        "\n",
        "En este caso, también podríamos fijar la métrica <i>Lift</i>.\n",
        "\n",
        "Podemos observar las reglas resultantes:\n"
      ]
    },
    {
      "metadata": {
        "id": "rXVoI__rHiY0",
        "colab_type": "code",
        "colab": {}
      },
      "cell_type": "code",
      "source": [
        "lReglas = list(lReglas) \n",
        "print('Se han encontrado',len(lReglas),'reglas con los requisitos impuestos')\n",
        "print('La primera regla es:\\n',lReglas[0])"
      ],
      "execution_count": 0,
      "outputs": []
    },
    {
      "metadata": {
        "id": "bxCyun1aHiY2",
        "colab_type": "text"
      },
      "cell_type": "markdown",
      "source": [
        "\n",
        "Podemos ver que tenemos muchísima información sobre la regla codificada en las respuestas.\n",
        "\n",
        "Si queremos hacer un recorrido por todas ellas, podemos hacerlo de la siguiente manera:\n"
      ]
    },
    {
      "metadata": {
        "scrolled": true,
        "id": "tXiz9I-DHiY2",
        "colab_type": "code",
        "colab": {}
      },
      "cell_type": "code",
      "source": [
        "for item in lReglas:\n",
        "\n",
        "    par = [x for x in item[0]]\n",
        "    print(\"Regla: \" + par[0] + \" -> \" + par[1])\n",
        "\n",
        "    print(\" + Soporte:   {0:1.3f}\".format(item[1]))\n",
        "    print(\" + Confianza: {0:1.3f}\".format(item[2][0][2]))\n",
        "    print(\" + Lift:      {0:1.3f}\".format(item[2][0][3]))\n",
        "    print()"
      ],
      "execution_count": 0,
      "outputs": []
    },
    {
      "metadata": {
        "id": "wVBBiEvjHiY4",
        "colab_type": "code",
        "colab": {}
      },
      "cell_type": "code",
      "source": [
        ""
      ],
      "execution_count": 0,
      "outputs": []
    }
  ]
}